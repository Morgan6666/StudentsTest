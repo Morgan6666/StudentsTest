{
  "nbformat": 4,
  "nbformat_minor": 0,
  "metadata": {
    "kernelspec": {
      "display_name": "Python 3",
      "language": "python",
      "name": "python3"
    },
    "language_info": {
      "codemirror_mode": {
        "name": "ipython",
        "version": 3
      },
      "file_extension": ".py",
      "mimetype": "text/x-python",
      "name": "python",
      "nbconvert_exporter": "python",
      "pygments_lexer": "ipython3",
      "version": "3.8.3"
    },
    "colab": {
      "name": "Test.ipynb",
      "provenance": []
    }
  },
  "cells": [
    {
      "cell_type": "markdown",
      "metadata": {
        "id": "NChVUZZdLq6t"
      },
      "source": [
        "### Задание №1"
      ]
    },
    {
      "cell_type": "code",
      "metadata": {
        "id": "NAC34MfZNTzA"
      },
      "source": [
        "!pip install biopython"
      ],
      "execution_count": 28,
      "outputs": []
    },
    {
      "cell_type": "code",
      "metadata": {
        "colab": {
          "base_uri": "https://localhost:8080/"
        },
        "id": "cDrBO8YhLq6w",
        "outputId": "3e4d367d-f5f9-4814-ee1d-f04dc7aae59d"
      },
      "source": [
        "from Bio import SeqIO, Seq\n",
        "GC = (seq_record.seq.count('C') + seq_record.seq.count('G'))/(seq_record.seq.count('C') + seq_record.seq.count('G') + seq_record.seq.count('A') + seq_record.seq.count('T')) * 100\n",
        "print(f\"GC-состав:{GC}%\\nКоличество каждого нуклеотида:\")\n",
        "for seq_record in SeqIO.parse('sequence.fasta', 'fasta'):\n",
        "    print(f\"A-{seq_record.seq.count('A')}\\n\",f\"T-{seq_record.seq.count('T')}\\n\", f\"G-{seq_record.seq.count('G')}\\n\",f\"C-{seq_record.seq.count('C')}\" )\n"
      ],
      "execution_count": 28,
      "outputs": [
        {
          "output_type": "stream",
          "text": [
            "GC-состав:40.02523486333147%\n",
            "Количество каждого нуклеотида:\n",
            "A-7886192\n",
            " T-7956168\n",
            " G-5286894\n",
            " C-5285789\n"
          ],
          "name": "stdout"
        }
      ]
    },
    {
      "cell_type": "markdown",
      "metadata": {
        "id": "bra3NM3-Lq6y"
      },
      "source": [
        "### Задание №2"
      ]
    },
    {
      "cell_type": "code",
      "metadata": {
        "id": "NZDLLvL_M9rk"
      },
      "source": [
        "!pip install pyranges\n",
        "import pyranges as pr"
      ],
      "execution_count": 30,
      "outputs": []
    },
    {
      "cell_type": "code",
      "metadata": {
        "colab": {
          "base_uri": "https://localhost:8080/",
          "height": 363
        },
        "id": "RR9if_oHUiiw",
        "outputId": "8e1a8d3e-669c-43d2-b38e-b8f3006c3447"
      },
      "source": [
        "def overlap(fb_1_path, fb_2_path):\n",
        "  return pr.read_bed(fb_1_path).overlap(pr.read_bed(fb_2_path))\n",
        "\n",
        "overlap(pr.get_example_path('aorta.bed'), pr.get_example_path('aorta2.bed'))"
      ],
      "execution_count": 43,
      "outputs": [
        {
          "output_type": "execute_result",
          "data": {
            "text/html": [
              "<div>\n",
              "<style scoped>\n",
              "    .dataframe tbody tr th:only-of-type {\n",
              "        vertical-align: middle;\n",
              "    }\n",
              "\n",
              "    .dataframe tbody tr th {\n",
              "        vertical-align: top;\n",
              "    }\n",
              "\n",
              "    .dataframe thead th {\n",
              "        text-align: right;\n",
              "    }\n",
              "</style>\n",
              "<table border=\"1\" class=\"dataframe\">\n",
              "  <thead>\n",
              "    <tr style=\"text-align: right;\">\n",
              "      <th></th>\n",
              "      <th>Chromosome</th>\n",
              "      <th>Start</th>\n",
              "      <th>End</th>\n",
              "      <th>Name</th>\n",
              "      <th>Score</th>\n",
              "      <th>Strand</th>\n",
              "    </tr>\n",
              "  </thead>\n",
              "  <tbody>\n",
              "    <tr>\n",
              "      <th>0</th>\n",
              "      <td>chr1</td>\n",
              "      <td>9939</td>\n",
              "      <td>10138</td>\n",
              "      <td>H3K27me3</td>\n",
              "      <td>7</td>\n",
              "      <td>+</td>\n",
              "    </tr>\n",
              "    <tr>\n",
              "      <th>1</th>\n",
              "      <td>chr1</td>\n",
              "      <td>9953</td>\n",
              "      <td>10152</td>\n",
              "      <td>H3K27me3</td>\n",
              "      <td>5</td>\n",
              "      <td>+</td>\n",
              "    </tr>\n",
              "    <tr>\n",
              "      <th>2</th>\n",
              "      <td>chr1</td>\n",
              "      <td>10024</td>\n",
              "      <td>10223</td>\n",
              "      <td>H3K27me3</td>\n",
              "      <td>1</td>\n",
              "      <td>+</td>\n",
              "    </tr>\n",
              "    <tr>\n",
              "      <th>3</th>\n",
              "      <td>chr1</td>\n",
              "      <td>10246</td>\n",
              "      <td>10445</td>\n",
              "      <td>H3K27me3</td>\n",
              "      <td>4</td>\n",
              "      <td>+</td>\n",
              "    </tr>\n",
              "    <tr>\n",
              "      <th>4</th>\n",
              "      <td>chr1</td>\n",
              "      <td>9916</td>\n",
              "      <td>10115</td>\n",
              "      <td>H3K27me3</td>\n",
              "      <td>5</td>\n",
              "      <td>-</td>\n",
              "    </tr>\n",
              "    <tr>\n",
              "      <th>5</th>\n",
              "      <td>chr1</td>\n",
              "      <td>9951</td>\n",
              "      <td>10150</td>\n",
              "      <td>H3K27me3</td>\n",
              "      <td>8</td>\n",
              "      <td>-</td>\n",
              "    </tr>\n",
              "    <tr>\n",
              "      <th>6</th>\n",
              "      <td>chr1</td>\n",
              "      <td>9978</td>\n",
              "      <td>10177</td>\n",
              "      <td>H3K27me3</td>\n",
              "      <td>7</td>\n",
              "      <td>-</td>\n",
              "    </tr>\n",
              "    <tr>\n",
              "      <th>7</th>\n",
              "      <td>chr1</td>\n",
              "      <td>10001</td>\n",
              "      <td>10200</td>\n",
              "      <td>H3K27me3</td>\n",
              "      <td>5</td>\n",
              "      <td>-</td>\n",
              "    </tr>\n",
              "    <tr>\n",
              "      <th>8</th>\n",
              "      <td>chr1</td>\n",
              "      <td>10127</td>\n",
              "      <td>10326</td>\n",
              "      <td>H3K27me3</td>\n",
              "      <td>1</td>\n",
              "      <td>-</td>\n",
              "    </tr>\n",
              "    <tr>\n",
              "      <th>9</th>\n",
              "      <td>chr1</td>\n",
              "      <td>10241</td>\n",
              "      <td>10440</td>\n",
              "      <td>H3K27me3</td>\n",
              "      <td>6</td>\n",
              "      <td>-</td>\n",
              "    </tr>\n",
              "  </tbody>\n",
              "</table>\n",
              "</div>"
            ],
            "text/plain": [
              "+--------------+-----------+-----------+------------+-----------+--------------+\n",
              "| Chromosome   | Start     | End       | Name       | Score     | Strand       |\n",
              "| (category)   | (int32)   | (int32)   | (object)   | (int64)   | (category)   |\n",
              "|--------------+-----------+-----------+------------+-----------+--------------|\n",
              "| chr1         | 9939      | 10138     | H3K27me3   | 7         | +            |\n",
              "| chr1         | 9953      | 10152     | H3K27me3   | 5         | +            |\n",
              "| chr1         | 10024     | 10223     | H3K27me3   | 1         | +            |\n",
              "| chr1         | 10246     | 10445     | H3K27me3   | 4         | +            |\n",
              "| ...          | ...       | ...       | ...        | ...       | ...          |\n",
              "| chr1         | 9978      | 10177     | H3K27me3   | 7         | -            |\n",
              "| chr1         | 10001     | 10200     | H3K27me3   | 5         | -            |\n",
              "| chr1         | 10127     | 10326     | H3K27me3   | 1         | -            |\n",
              "| chr1         | 10241     | 10440     | H3K27me3   | 6         | -            |\n",
              "+--------------+-----------+-----------+------------+-----------+--------------+\n",
              "Stranded PyRanges object has 10 rows and 6 columns from 1 chromosomes.\n",
              "For printing, the PyRanges was sorted on Chromosome and Strand."
            ]
          },
          "metadata": {
            "tags": []
          },
          "execution_count": 43
        }
      ]
    }
  ]
}